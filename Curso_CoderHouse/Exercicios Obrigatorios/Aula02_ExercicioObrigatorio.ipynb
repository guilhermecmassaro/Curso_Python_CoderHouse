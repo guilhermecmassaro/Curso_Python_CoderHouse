{
 "cells": [
  {
   "cell_type": "markdown",
   "metadata": {},
   "source": [
    "## Exercicio Complementar\n"
   ]
  },
  {
   "cell_type": "markdown",
   "metadata": {},
   "source": [
    "## Exercício 1"
   ]
  },
  {
   "cell_type": "code",
   "execution_count": 2,
   "metadata": {},
   "outputs": [
    {
     "name": "stdout",
     "output_type": "stream",
     "text": [
      "O seu IMC é 25.0\n"
     ]
    }
   ],
   "source": [
    "# Solicitar o peso em kg e altura em metros ao usuário\n",
    "\n",
    "peso = float(input('Digite seu peso aqui em quilogramas (kg):'))\n",
    "altura = float(input('Digita agora a sua altura em metros (m):'))\n",
    "\n",
    "# Realizar o calculo do IMC e mostrar ao usuário\n",
    "\n",
    "imc = peso/(altura**2)\n",
    "print(f'O seu IMC é {imc}')"
   ]
  },
  {
   "cell_type": "markdown",
   "metadata": {},
   "source": [
    "## Exercício 2"
   ]
  },
  {
   "cell_type": "code",
   "execution_count": 3,
   "metadata": {},
   "outputs": [
    {
     "name": "stdout",
     "output_type": "stream",
     "text": [
      "Você será capaz de digitar cinco números abaixo, sendo eles apenas INTEIROS\n",
      "Os números digitados foram listados e são [1.0, 2.0, 3.0, 4.0, 5.0]\n"
     ]
    }
   ],
   "source": [
    "#Crie uma lista vazia\n",
    "\n",
    "lista = []\n",
    "\n",
    "#Permita o usuário inserir cinco números na lista\n",
    "\n",
    "print('Você será capaz de digitar cinco números abaixo, sendo eles apenas INTEIROS')\n",
    "lista.append(float(input(\"num 1:\"))) \n",
    "lista.append(float(input(\"num 2:\"))) \n",
    "lista.append(float(input(\"num 3:\"))) \n",
    "lista.append(float(input(\"num 4:\"))) \n",
    "lista.append(float(input(\"num 5:\"))) \n",
    "\n",
    "#Para adicionar os números podemos realizar o append ou criar uma lista e juntá-la com a vazia\n",
    "\n",
    "\n",
    "print(f'Os números digitados foram: {lista}')"
   ]
  },
  {
   "cell_type": "markdown",
   "metadata": {},
   "source": [
    "## Exercício 3"
   ]
  },
  {
   "cell_type": "code",
   "execution_count": 4,
   "metadata": {},
   "outputs": [
    {
     "name": "stdout",
     "output_type": "stream",
     "text": [
      "Sua lista de nomes é ['Guilherme', ' Gabriel', ' Andre', ' Cristiane']\n"
     ]
    }
   ],
   "source": [
    "#Permita o usuário digitar uma lista de nomes\n",
    "\n",
    "nomes = str(input('Digite alguns nomes separados por vírgula (,):'))\n",
    "\n",
    "#Transforme essa lista em uma lista de strings\n",
    "\n",
    "lista = list(nomes.split(','))\n",
    "print(f'Sua lista de nomes é {lista}')"
   ]
  }
 ],
 "metadata": {
  "kernelspec": {
   "display_name": "Python 3",
   "language": "python",
   "name": "python3"
  },
  "language_info": {
   "codemirror_mode": {
    "name": "ipython",
    "version": 3
   },
   "file_extension": ".py",
   "mimetype": "text/x-python",
   "name": "python",
   "nbconvert_exporter": "python",
   "pygments_lexer": "ipython3",
   "version": "3.11.4"
  },
  "orig_nbformat": 4
 },
 "nbformat": 4,
 "nbformat_minor": 2
}
