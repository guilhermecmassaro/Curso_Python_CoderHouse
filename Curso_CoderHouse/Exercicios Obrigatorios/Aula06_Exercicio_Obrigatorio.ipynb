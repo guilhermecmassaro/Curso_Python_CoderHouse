{
 "cells": [
  {
   "cell_type": "markdown",
   "metadata": {},
   "source": [
    "Principais comandos Git:\n",
    "\n",
    "git add\n",
    "\n",
    "git commit -m \"adicionado exercícios 3\"\n",
    "\n",
    "git push origin main"
   ]
  },
  {
   "cell_type": "code",
   "execution_count": null,
   "metadata": {
    "vscode": {
     "languageId": "plaintext"
    }
   },
   "outputs": [],
   "source": []
  }
 ],
 "metadata": {
  "language_info": {
   "name": "python"
  },
  "orig_nbformat": 4
 },
 "nbformat": 4,
 "nbformat_minor": 2
}
