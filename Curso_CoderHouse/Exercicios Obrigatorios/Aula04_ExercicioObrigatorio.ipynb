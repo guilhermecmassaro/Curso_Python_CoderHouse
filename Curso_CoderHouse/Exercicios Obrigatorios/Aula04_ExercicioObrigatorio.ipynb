{
 "cells": [
  {
   "cell_type": "markdown",
   "metadata": {},
   "source": [
    "## Exercício Obrigatório - Coder House Aula 04"
   ]
  },
  {
   "cell_type": "code",
   "execution_count": 27,
   "metadata": {},
   "outputs": [],
   "source": [
    "# Importando as bibliotecas\n",
    "\n",
    "from plyer import notification\n",
    "from datetime import datetime\n",
    "\n",
    "\n",
    "# Criando a função do exercício\n",
    "\n",
    "def alerta(nivel,base,etapa):\n",
    "    # Criação da condicional para alteração do título da notificação\n",
    "    if nivel == 1:\n",
    "        title = 'ATENÇÃO: Alerta Baixo'\n",
    "    elif nivel == 2:\n",
    "        title = 'ATENÇÃO: Alerta Médio'\n",
    "    else:\n",
    "        title = 'ATENÇÃO: Alerta Alto'\n",
    "\n",
    "    # Retorna o horário atual da notificação e falha\n",
    "    horario_agora = str(datetime.now()) \n",
    "\n",
    "    # Mensagem que acompanha o título da notificação\n",
    "    message = f'Falha no carregamento da base {base} na etapa {etapa} \\n{horario_agora}'\n",
    "\n",
    "    # Criação da notificação e seu esqueleto\n",
    "    notification.notify(\n",
    "    title = title,\n",
    "    message = message,\n",
    "    timeout = 10\n",
    "    )\n",
    "\n",
    "alerta(nivel=2,\n",
    "       base='CLIENTES',\n",
    "       etapa='EXTRAÇÃO')\n",
    "\n"
   ]
  }
 ],
 "metadata": {
  "kernelspec": {
   "display_name": "Python 3",
   "language": "python",
   "name": "python3"
  },
  "language_info": {
   "codemirror_mode": {
    "name": "ipython",
    "version": 3
   },
   "file_extension": ".py",
   "mimetype": "text/x-python",
   "name": "python",
   "nbconvert_exporter": "python",
   "pygments_lexer": "ipython3",
   "version": "3.11.4"
  },
  "orig_nbformat": 4
 },
 "nbformat": 4,
 "nbformat_minor": 2
}
